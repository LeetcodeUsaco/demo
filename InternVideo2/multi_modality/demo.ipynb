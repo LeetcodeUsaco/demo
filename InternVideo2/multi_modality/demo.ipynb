{
 "cells": [
  {
   "cell_type": "code",
   "execution_count": 1,
   "metadata": {
    "scrolled": true
   },
   "outputs": [
    {
     "name": "stderr",
     "output_type": "stream",
     "text": [
      "/Users/qing/PycharmProjects/InternVideo/InternVideo2/multi_modality/models/backbones/internvideo2/internvl_clip_vision.py:140: FutureWarning: `torch.cuda.amp.autocast(args...)` is deprecated. Please use `torch.amp.autocast('cuda', args...)` instead.\n",
      "  @torch.cuda.amp.autocast(enabled=False)\n",
      "/Users/qing/PycharmProjects/InternVideo/InternVideo2/multi_modality/models/backbones/internvideo2/internvideo2.py:135: FutureWarning: `torch.cuda.amp.autocast(args...)` is deprecated. Please use `torch.amp.autocast('cuda', args...)` instead.\n",
      "  @torch.cuda.amp.autocast(enabled=False)\n",
      "/Users/qing/PycharmProjects/InternVideo/InternVideo2/multi_modality/models/backbones/internvideo2/internvideo2_clip_vision.py:136: FutureWarning: `torch.cuda.amp.autocast(args...)` is deprecated. Please use `torch.amp.autocast('cuda', args...)` instead.\n",
      "  @torch.cuda.amp.autocast(enabled=False)\n"
     ]
    },
    {
     "name": "stdout",
     "output_type": "stream",
     "text": [
      "No module named 'deepspeed'\n",
      "deepspeed is not installed!!!\n"
     ]
    }
   ],
   "source": [
    "import sys\n",
    "import os\n",
    "\n",
    "sys.path.append(os.getcwd())\n",
    "import numpy as np\n",
    "import os\n",
    "import io\n",
    "import cv2\n",
    "\n",
    "import torch\n",
    "\n",
    "from demo.config import (Config,\n",
    "                    eval_dict_leaf)\n",
    "\n",
    "from demo.utils import (retrieve_text,\n",
    "                  _frame_from_video,\n",
    "                  setup_internvideo2)\n",
    "\n",
    "from iv2_utils.iv2 import *"
   ]
  },
  {
   "cell_type": "code",
   "execution_count": 2,
   "metadata": {},
   "outputs": [],
   "source": [
    "config = Config.from_file('demo/internvideo2_stage2_config.py')\n",
    "config = eval_dict_leaf(config)"
   ]
  },
  {
   "cell_type": "code",
   "execution_count": 3,
   "metadata": {},
   "outputs": [],
   "source": [
    "model_pth = 'model_l14/iv2-stage2.pt'\n",
    "config['pretrained_path'] = model_pth\n",
    "config.model.vision_encoder.pretrained = model_pth\n",
    "config.device = 'cpu'"
   ]
  },
  {
   "cell_type": "code",
   "execution_count": null,
   "metadata": {},
   "outputs": [],
   "source": []
  },
  {
   "cell_type": "code",
   "execution_count": 4,
   "metadata": {
    "scrolled": true
   },
   "outputs": [
    {
     "name": "stderr",
     "output_type": "stream",
     "text": [
      "/opt/miniconda3/envs/xclip/lib/python3.9/site-packages/transformers/tokenization_utils_base.py:1617: FutureWarning: `clean_up_tokenization_spaces` was not set. It will be set to `True` by default. This behavior will be deprecated in transformers v4.45, and will be then set to `False` by default. For more details check this issue: https://github.com/huggingface/transformers/issues/31884\n",
      "  warnings.warn(\n",
      "/Users/qing/PycharmProjects/InternVideo/InternVideo2/multi_modality/models/backbones/internvideo2/internvideo2.py:695: FutureWarning: You are using `torch.load` with `weights_only=False` (the current default value), which uses the default pickle module implicitly. It is possible to construct malicious pickle data which will execute arbitrary code during unpickling (See https://github.com/pytorch/pytorch/blob/main/SECURITY.md#untrusted-models for more details). In a future release, the default value for `weights_only` will be flipped to `True`. This limits the functions that could be executed during unpickling. Arbitrary objects will no longer be allowed to be loaded via this mode unless they are explicitly allowlisted by the user via `torch.serialization.add_safe_globals`. We recommend you start setting `weights_only=True` for any use case where you don't have full control of the loaded file. Please open an issue on GitHub for any issues related to this experimental feature.\n",
      "  state_dict = torch.load(config.vision_encoder.pretrained, map_location='cpu')\n",
      "/Users/qing/PycharmProjects/InternVideo/InternVideo2/multi_modality/demo/utils.py:110: FutureWarning: You are using `torch.load` with `weights_only=False` (the current default value), which uses the default pickle module implicitly. It is possible to construct malicious pickle data which will execute arbitrary code during unpickling (See https://github.com/pytorch/pytorch/blob/main/SECURITY.md#untrusted-models for more details). In a future release, the default value for `weights_only` will be flipped to `True`. This limits the functions that could be executed during unpickling. Arbitrary objects will no longer be allowed to be loaded via this mode unless they are explicitly allowlisted by the user via `torch.serialization.add_safe_globals`. We recommend you start setting `weights_only=True` for any use case where you don't have full control of the loaded file. Please open an issue on GitHub for any issues related to this experimental feature.\n",
      "  checkpoint = torch.load(config.pretrained_path, map_location=\"cpu\")\n"
     ]
    },
    {
     "name": "stdout",
     "output_type": "stream",
     "text": [
      "load_state_dict: _IncompatibleKeys(missing_keys=[], unexpected_keys=['temp', 'itm_head.weight', 'itm_head.bias'])\n"
     ]
    }
   ],
   "source": [
    "intern_model, tokenizer = setup_internvideo2(config)"
   ]
  },
  {
   "cell_type": "code",
   "execution_count": 5,
   "metadata": {},
   "outputs": [],
   "source": [
    "def get_logit(video_path, phrase):\n",
    "    video = cv2.VideoCapture(video_path)\n",
    "    frames = [x for x in _frame_from_video(video)]\n",
    "    \n",
    "    text_candidates = [phrase]\n",
    "    texts, probs = retrieve_text(frames, text_candidates, model=intern_model, topk=1, config=config, device = 'cpu')\n",
    "    return probs[0].item()"
   ]
  },
  {
   "cell_type": "code",
   "execution_count": 13,
   "metadata": {},
   "outputs": [
    {
     "data": {
      "text/plain": [
       "32.38642501831055"
      ]
     },
     "execution_count": 13,
     "metadata": {},
     "output_type": "execute_result"
    }
   ],
   "source": [
    "get_logit('demo/example1.mp4',\"A playful dog and its owner wrestle in the snowy yard, chasing each other with joyous abandon.\")"
   ]
  },
  {
   "cell_type": "code",
   "execution_count": 12,
   "metadata": {},
   "outputs": [
    {
     "name": "stdout",
     "output_type": "stream",
     "text": [
      "Using Cached\n",
      "Time taken: 16.858432666\n",
      "text: A playful dog and its owner wrestle in the snowy yard, chasing each other with joyous abandon. ~ prob: 32.3864\n",
      "text: A man in a gray sweater plays fetch with his dog in the snowy yard, throwing a toy and watching it run. ~ prob: 29.5699\n",
      "text: A pet dog excitedly runs through the snowy yard, chasing a toy thrown by its owner. ~ prob: 29.2529\n",
      "text: A person in a blue jacket walks their pet on a leash, enjoying a peaceful winter walk among the trees. ~ prob: 29.1189\n",
      "text: A man in a gray hat and coat walks through the snowy yard, carefully navigating around the trees. ~ prob: 28.9397\n"
     ]
    }
   ],
   "source": [
    "video = cv2.VideoCapture('demo/example1.mp4')\n",
    "frames = [x for x in _frame_from_video(video)]\n",
    "\n",
    "text_candidates = [\"A playful dog and its owner wrestle in the snowy yard, chasing each other with joyous abandon.\",\n",
    "                   \"A man in a gray coat walks through the snowy landscape, pulling a sleigh loaded with toys.\",\n",
    "                   \"A person dressed in a blue jacket shovels the snow-covered pavement outside their house.\",\n",
    "                   \"A pet dog excitedly runs through the snowy yard, chasing a toy thrown by its owner.\",\n",
    "                   \"A person stands on the snowy floor, pushing a sled loaded with blankets, preparing for a fun-filled ride.\",\n",
    "                   \"A man in a gray hat and coat walks through the snowy yard, carefully navigating around the trees.\",\n",
    "                   \"A playful dog slides down a snowy hill, wagging its tail with delight.\",\n",
    "                   \"A person in a blue jacket walks their pet on a leash, enjoying a peaceful winter walk among the trees.\",\n",
    "                   \"A man in a gray sweater plays fetch with his dog in the snowy yard, throwing a toy and watching it run.\",\n",
    "                   \"A person bundled up in a blanket walks through the snowy landscape, enjoying the serene winter scenery.\"]\n",
    "import time\n",
    "with torch.no_grad():\n",
    "    t1 = time.perf_counter()\n",
    "    texts, probs = retrieve_text(frames, text_candidates, model=intern_model, topk=5, config=config, device = 'cpu', log = True)\n",
    "    t2 = time.perf_counter() - t1\n",
    "\n",
    "print(\"Time taken:\",t2)\n",
    "for t, p in zip(texts, probs):\n",
    "    print(f'text: {t} ~ prob: {p:.4f}')"
   ]
  },
  {
   "cell_type": "code",
   "execution_count": 7,
   "metadata": {},
   "outputs": [],
   "source": [
    "from demo.utils import tensor_cache"
   ]
  },
  {
   "cell_type": "code",
   "execution_count": 8,
   "metadata": {},
   "outputs": [
    {
     "name": "stdout",
     "output_type": "stream",
     "text": [
      "['A playful dog and its owner wrestle in the snowy yard, chasing each other with joyous abandon.', 'A man in a gray coat walks through the snowy landscape, pulling a sleigh loaded with toys.', 'A person dressed in a blue jacket shovels the snow-covered pavement outside their house.', 'A pet dog excitedly runs through the snowy yard, chasing a toy thrown by its owner.', 'A person stands on the snowy floor, pushing a sled loaded with blankets, preparing for a fun-filled ride.', 'A man in a gray hat and coat walks through the snowy yard, carefully navigating around the trees.', 'A playful dog slides down a snowy hill, wagging its tail with delight.', 'A person in a blue jacket walks their pet on a leash, enjoying a peaceful winter walk among the trees.', 'A man in a gray sweater plays fetch with his dog in the snowy yard, throwing a toy and watching it run.', 'A person bundled up in a blanket walks through the snowy landscape, enjoying the serene winter scenery.']\n"
     ]
    }
   ],
   "source": [
    "keys = list(tensor_cache.keys())\n",
    "print(keys)"
   ]
  },
  {
   "cell_type": "code",
   "execution_count": 16,
   "metadata": {},
   "outputs": [
    {
     "data": {
      "text/plain": [
       "['Moo.ipynb',\n",
       " 'WordFinder',\n",
       " 'Object.ipynb',\n",
       " '.DS_Store',\n",
       " 'Linear Algebra',\n",
       " 'Autocomplete',\n",
       " 'ViCLIP',\n",
       " 'face',\n",
       " 'EdgeVid.ipynb',\n",
       " 'Video Player',\n",
       " 'tc-clip',\n",
       " 'InternVideo',\n",
       " 'photography-model',\n",
       " 'fine-tuning-2',\n",
       " 'unmasked_teacher',\n",
       " 'test.pkl',\n",
       " 'CoinScraper',\n",
       " 'leetcode.py',\n",
       " 'TemporalLanguageRelease',\n",
       " 'CroppedImages',\n",
       " '.ipynb_checkpoints',\n",
       " '.git',\n",
       " 'X-Clip',\n",
       " 'iv2_utils',\n",
       " 'video.py',\n",
       " 'ctcLink-Crawler']"
      ]
     },
     "execution_count": 16,
     "metadata": {},
     "output_type": "execute_result"
    }
   ],
   "source": [
    "os.listdir('../../..')"
   ]
  },
  {
   "cell_type": "code",
   "execution_count": 18,
   "metadata": {},
   "outputs": [
    {
     "data": {
      "application/vnd.jupyter.widget-view+json": {
       "model_id": "2e0767d274f2462ca881d1685f2f9664",
       "version_major": 2,
       "version_minor": 0
      },
      "text/plain": [
       "  0%|          | 0/75 [00:00<?, ?it/s]"
      ]
     },
     "metadata": {},
     "output_type": "display_data"
    },
    {
     "data": {
      "application/vnd.jupyter.widget-view+json": {
       "model_id": "1dfde79eabaf4b47977f71849f0d6621",
       "version_major": 2,
       "version_minor": 0
      },
      "text/plain": [
       "  0%|          | 0/185 [00:00<?, ?it/s]"
      ]
     },
     "metadata": {},
     "output_type": "display_data"
    },
    {
     "name": "stderr",
     "output_type": "stream",
     "text": [
      "\n",
      "KeyboardInterrupt\n",
      "\n"
     ]
    }
   ],
   "source": [
    "from tqdm.notebook import tqdm\n",
    "\n",
    "output_dir = 'output'\n",
    "logits = []\n",
    "preds  = []\n",
    "for video_path, phrase, frames in tqdm(pickle_read('../../../photography-model/rustyjar/ACT75.pkl')):\n",
    "    split_video_to_mp4('../../../photography-model/' + video_path, output_dir=output_dir, window_size=8)\n",
    "\n",
    "    logit_curr = []\n",
    "    pbar = tqdm(get_output_dir(output_dir))\n",
    "\n",
    "    frames_list = {}\n",
    "    for clip in get_output_dir(output_dir):\n",
    "        video = cv2.VideoCapture(clip)\n",
    "        frames_list[clip] = [x for x in _frame_from_video(video)]\n",
    "    for j in pbar:\n",
    "        logit = get_logit(j, phrase)\n",
    "        logit_curr.append(logit)\n",
    "        if len(logit_curr) > 0:\n",
    "            pbar.set_description(str(np.argmax(logit_curr) + 1))\n",
    "    preds.append(np.argmax(logit_curr) + 1)\n",
    "    logits.append(list(zip(logit_curr, range(1, len(logit_curr) + 1))))\n",
    "\n",
    "print(preds[:5])\n",
    "pickle_write(preds, 'InternVideo2-t8.pkl')\n",
    "pickle_write(logits, 'InternVideo2-logits-t.pkl')"
   ]
  },
  {
   "cell_type": "code",
   "execution_count": 21,
   "metadata": {},
   "outputs": [
    {
     "name": "stdout",
     "output_type": "stream",
     "text": [
      "Total number of trainable parameters | 918528\n",
      "Total parameters                     | 1410144442\n"
     ]
    }
   ],
   "source": [
    "import torch\n",
    "\n",
    "total_params = sum(p.numel() for p in intern_model.parameters() if p.requires_grad)\n",
    "\n",
    "print(f'Total number of trainable parameters | {total_params}')\n",
    "print(f'Total parameters                     | {np.sum([int(np.prod(p.shape)) for p in intern_model.parameters()])}')"
   ]
  },
  {
   "cell_type": "code",
   "execution_count": null,
   "metadata": {},
   "outputs": [],
   "source": []
  }
 ],
 "metadata": {
  "kernelspec": {
   "display_name": "Python 3 (ipykernel)",
   "language": "python",
   "name": "python3"
  },
  "language_info": {
   "codemirror_mode": {
    "name": "ipython",
    "version": 3
   },
   "file_extension": ".py",
   "mimetype": "text/x-python",
   "name": "python",
   "nbconvert_exporter": "python",
   "pygments_lexer": "ipython3",
   "version": "3.9.19"
  }
 },
 "nbformat": 4,
 "nbformat_minor": 4
}
